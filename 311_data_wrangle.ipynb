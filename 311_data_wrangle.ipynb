{
 "cells": [
  {
   "cell_type": "code",
   "execution_count": 1,
   "metadata": {},
   "outputs": [],
   "source": [
    "import pandas as pd\n",
    "import numpy as np\n",
    "import datetime\n",
    "\n",
    "import os"
   ]
  },
  {
   "cell_type": "code",
   "execution_count": 4,
   "metadata": {},
   "outputs": [],
   "source": [
    "from wrangle import acquire_data, preprocessing"
   ]
  },
  {
   "cell_type": "code",
   "execution_count": 12,
   "metadata": {},
   "outputs": [
    {
     "ename": "ModuleNotFoundError",
     "evalue": "No module named 'geopandas'",
     "output_type": "error",
     "traceback": [
      "\u001b[0;31m---------------------------------------------------------------------------\u001b[0m",
      "\u001b[0;31mModuleNotFoundError\u001b[0m                       Traceback (most recent call last)",
      "\u001b[0;32m<ipython-input-12-a62d01c1d62e>\u001b[0m in \u001b[0;36m<module>\u001b[0;34m\u001b[0m\n\u001b[0;32m----> 1\u001b[0;31m \u001b[0;32mimport\u001b[0m \u001b[0mgeopandas\u001b[0m \u001b[0;32mas\u001b[0m \u001b[0mgpd\u001b[0m\u001b[0;34m\u001b[0m\u001b[0;34m\u001b[0m\u001b[0m\n\u001b[0m",
      "\u001b[0;31mModuleNotFoundError\u001b[0m: No module named 'geopandas'"
     ]
    }
   ],
   "source": [
    "import geopandas as gpd"
   ]
  },
  {
   "cell_type": "markdown",
   "metadata": {},
   "source": [
    "# Acquire\n",
    "\n",
    "This data can be called using the url below"
   ]
  },
  {
   "cell_type": "code",
   "execution_count": 5,
   "metadata": {},
   "outputs": [],
   "source": [
    "df = acquire_data()"
   ]
  },
  {
   "cell_type": "markdown",
   "metadata": {},
   "source": [
    "### Can I use CASEID as an index?"
   ]
  },
  {
   "cell_type": "code",
   "execution_count": 6,
   "metadata": {},
   "outputs": [
    {
     "name": "stdout",
     "output_type": "stream",
     "text": [
      "False\n",
      "Because the above code returns False, it means that there can be multiple entries for each `CASEID`\n"
     ]
    }
   ],
   "source": [
    "print(len(df.CASEID) == len(df.CASEID.unique()))\n",
    "print(\"Because the above code returns False, it means that there can be multiple entries for each `CASEID`\")"
   ]
  },
  {
   "cell_type": "code",
   "execution_count": 7,
   "metadata": {},
   "outputs": [
    {
     "data": {
      "text/plain": [
       "1    525836\n",
       "2      7195\n",
       "4        67\n",
       "3        17\n",
       "Name: CASEID, dtype: int64"
      ]
     },
     "execution_count": 7,
     "metadata": {},
     "output_type": "execute_result"
    }
   ],
   "source": [
    "# What are the distribution of CASEID frequency\n",
    "df.CASEID.value_counts().value_counts()"
   ]
  },
  {
   "cell_type": "markdown",
   "metadata": {},
   "source": [
    "### Initial dataframe exploration"
   ]
  },
  {
   "cell_type": "code",
   "execution_count": 8,
   "metadata": {},
   "outputs": [],
   "source": [
    "df = preprocessing(df)"
   ]
  },
  {
   "cell_type": "code",
   "execution_count": 9,
   "metadata": {},
   "outputs": [
    {
     "name": "stdout",
     "output_type": "stream",
     "text": [
      "<class 'pandas.core.frame.DataFrame'>\n",
      "RangeIndex: 540545 entries, 0 to 540544\n",
      "Data columns (total 17 columns):\n",
      " #   Column                Non-Null Count   Dtype         \n",
      "---  ------                --------------   -----         \n",
      " 0   category              540545 non-null  object        \n",
      " 1   caseid                540545 non-null  object        \n",
      " 2   openeddatetime        540545 non-null  datetime64[ns]\n",
      " 3   sla_date              529974 non-null  object        \n",
      " 4   closeddatetime        497459 non-null  datetime64[ns]\n",
      " 5   dept                  478090 non-null  object        \n",
      " 6   reasonname            540545 non-null  object        \n",
      " 7   typename              540545 non-null  object        \n",
      " 8   sourceid              540545 non-null  object        \n",
      " 9   objectdesc            540545 non-null  object        \n",
      " 10  council_district      540545 non-null  object        \n",
      " 11  xcoord                540545 non-null  object        \n",
      " 12  ycoord                540545 non-null  object        \n",
      " 13  report_starting_date  540545 non-null  datetime64[ns]\n",
      " 14  report_ending_date    540545 non-null  datetime64[ns]\n",
      " 15  is_late               540545 non-null  bool          \n",
      " 16  is_closed             540545 non-null  bool          \n",
      "dtypes: bool(2), datetime64[ns](4), object(11)\n",
      "memory usage: 62.9+ MB\n"
     ]
    }
   ],
   "source": [
    "df.info()"
   ]
  },
  {
   "cell_type": "code",
   "execution_count": 11,
   "metadata": {},
   "outputs": [
    {
     "data": {
      "text/html": [
       "<div>\n",
       "<style scoped>\n",
       "    .dataframe tbody tr th:only-of-type {\n",
       "        vertical-align: middle;\n",
       "    }\n",
       "\n",
       "    .dataframe tbody tr th {\n",
       "        vertical-align: top;\n",
       "    }\n",
       "\n",
       "    .dataframe thead th {\n",
       "        text-align: right;\n",
       "    }\n",
       "</style>\n",
       "<table border=\"1\" class=\"dataframe\">\n",
       "  <thead>\n",
       "    <tr style=\"text-align: right;\">\n",
       "      <th></th>\n",
       "      <th>category</th>\n",
       "      <th>caseid</th>\n",
       "      <th>openeddatetime</th>\n",
       "      <th>sla_date</th>\n",
       "      <th>closeddatetime</th>\n",
       "      <th>dept</th>\n",
       "      <th>reasonname</th>\n",
       "      <th>typename</th>\n",
       "      <th>sourceid</th>\n",
       "      <th>objectdesc</th>\n",
       "      <th>council_district</th>\n",
       "      <th>xcoord</th>\n",
       "      <th>ycoord</th>\n",
       "      <th>report_starting_date</th>\n",
       "      <th>report_ending_date</th>\n",
       "      <th>is_late</th>\n",
       "      <th>is_closed</th>\n",
       "    </tr>\n",
       "  </thead>\n",
       "  <tbody>\n",
       "    <tr>\n",
       "      <th>0</th>\n",
       "      <td>Streets &amp; Infrastructure</td>\n",
       "      <td>1010126853</td>\n",
       "      <td>2011-12-10</td>\n",
       "      <td>12/11/2011</td>\n",
       "      <td>2020-03-05</td>\n",
       "      <td>Trans &amp; Cap Improvements</td>\n",
       "      <td>Storm Water</td>\n",
       "      <td>Tree Fallen</td>\n",
       "      <td>Constituent Call</td>\n",
       "      <td>ELM CREEK and WURZBACH RD</td>\n",
       "      <td>8</td>\n",
       "      <td>2113584</td>\n",
       "      <td>13747492</td>\n",
       "      <td>2019-09-26</td>\n",
       "      <td>2019-09-26</td>\n",
       "      <td>True</td>\n",
       "      <td>True</td>\n",
       "    </tr>\n",
       "    <tr>\n",
       "      <th>1</th>\n",
       "      <td>Streets &amp; Infrastructure</td>\n",
       "      <td>1010126880</td>\n",
       "      <td>2011-12-10</td>\n",
       "      <td>12/13/2011</td>\n",
       "      <td>2020-03-05</td>\n",
       "      <td>Trans &amp; Cap Improvements</td>\n",
       "      <td>Streets</td>\n",
       "      <td>Barricade - Misc. Special Event/Emergency</td>\n",
       "      <td>Constituent Call</td>\n",
       "      <td>1600  CENTENNIAL BV, San Antonio, 78211</td>\n",
       "      <td>5</td>\n",
       "      <td>2116553</td>\n",
       "      <td>13684805</td>\n",
       "      <td>2019-09-26</td>\n",
       "      <td>2019-09-26</td>\n",
       "      <td>True</td>\n",
       "      <td>True</td>\n",
       "    </tr>\n",
       "  </tbody>\n",
       "</table>\n",
       "</div>"
      ],
      "text/plain": [
       "                   category      caseid openeddatetime    sla_date  \\\n",
       "0  Streets & Infrastructure  1010126853     2011-12-10  12/11/2011   \n",
       "1  Streets & Infrastructure  1010126880     2011-12-10  12/13/2011   \n",
       "\n",
       "  closeddatetime                      dept   reasonname  \\\n",
       "0     2020-03-05  Trans & Cap Improvements  Storm Water   \n",
       "1     2020-03-05  Trans & Cap Improvements      Streets   \n",
       "\n",
       "                                    typename          sourceid  \\\n",
       "0                                Tree Fallen  Constituent Call   \n",
       "1  Barricade - Misc. Special Event/Emergency  Constituent Call   \n",
       "\n",
       "                                objectdesc council_district   xcoord  \\\n",
       "0                ELM CREEK and WURZBACH RD                8  2113584   \n",
       "1  1600  CENTENNIAL BV, San Antonio, 78211                5  2116553   \n",
       "\n",
       "     ycoord report_starting_date report_ending_date  is_late  is_closed  \n",
       "0  13747492           2019-09-26         2019-09-26     True       True  \n",
       "1  13684805           2019-09-26         2019-09-26     True       True  "
      ]
     },
     "execution_count": 11,
     "metadata": {},
     "output_type": "execute_result"
    }
   ],
   "source": [
    "df.head(2)"
   ]
  },
  {
   "cell_type": "code",
   "execution_count": null,
   "metadata": {},
   "outputs": [],
   "source": []
  }
 ],
 "metadata": {
  "kernelspec": {
   "display_name": "Python 3",
   "language": "python",
   "name": "python3"
  },
  "language_info": {
   "codemirror_mode": {
    "name": "ipython",
    "version": 3
   },
   "file_extension": ".py",
   "mimetype": "text/x-python",
   "name": "python",
   "nbconvert_exporter": "python",
   "pygments_lexer": "ipython3",
   "version": "3.7.4"
  }
 },
 "nbformat": 4,
 "nbformat_minor": 2
}
