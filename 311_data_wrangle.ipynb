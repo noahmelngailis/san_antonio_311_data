{
 "cells": [
  {
   "cell_type": "code",
   "execution_count": 1,
   "metadata": {},
   "outputs": [],
   "source": [
    "import pandas as pd\n",
    "import numpy as np"
   ]
  },
  {
   "cell_type": "markdown",
   "metadata": {},
   "source": [
    "# Acquire\n",
    "\n",
    "This data can be called using the url below"
   ]
  },
  {
   "cell_type": "code",
   "execution_count": 3,
   "metadata": {},
   "outputs": [],
   "source": [
    "url = 'https://data.sanantonio.gov/dataset/93b0e7ee-3a55-4aa9-b27b-d1817e91aec3/resource/20eb6d22-7eac-425a-85c1-fdb365fd3cd7/download/allservicecalls.csv'"
   ]
  },
  {
   "cell_type": "code",
   "execution_count": 5,
   "metadata": {},
   "outputs": [],
   "source": [
    "df = pd.read_csv(url)"
   ]
  },
  {
   "cell_type": "code",
   "execution_count": 6,
   "metadata": {},
   "outputs": [
    {
     "data": {
      "text/html": [
       "<div>\n",
       "<style scoped>\n",
       "    .dataframe tbody tr th:only-of-type {\n",
       "        vertical-align: middle;\n",
       "    }\n",
       "\n",
       "    .dataframe tbody tr th {\n",
       "        vertical-align: top;\n",
       "    }\n",
       "\n",
       "    .dataframe thead th {\n",
       "        text-align: right;\n",
       "    }\n",
       "</style>\n",
       "<table border=\"1\" class=\"dataframe\">\n",
       "  <thead>\n",
       "    <tr style=\"text-align: right;\">\n",
       "      <th></th>\n",
       "      <th>Category</th>\n",
       "      <th>CASEID</th>\n",
       "      <th>OPENEDDATETIME</th>\n",
       "      <th>SLA_Date</th>\n",
       "      <th>CLOSEDDATETIME</th>\n",
       "      <th>Late (Yes/No)</th>\n",
       "      <th>Dept</th>\n",
       "      <th>REASONNAME</th>\n",
       "      <th>TYPENAME</th>\n",
       "      <th>CaseStatus</th>\n",
       "      <th>SourceID</th>\n",
       "      <th>OBJECTDESC</th>\n",
       "      <th>Council District</th>\n",
       "      <th>XCOORD</th>\n",
       "      <th>YCOORD</th>\n",
       "      <th>Report Starting Date</th>\n",
       "      <th>Report Ending Date</th>\n",
       "    </tr>\n",
       "  </thead>\n",
       "  <tbody>\n",
       "    <tr>\n",
       "      <th>0</th>\n",
       "      <td>Streets &amp; Infrastructure</td>\n",
       "      <td>1010126853</td>\n",
       "      <td>12/10/2011</td>\n",
       "      <td>12/11/2011</td>\n",
       "      <td>3/5/2020</td>\n",
       "      <td>YES</td>\n",
       "      <td>Trans &amp; Cap Improvements</td>\n",
       "      <td>Storm Water</td>\n",
       "      <td>Tree Fallen</td>\n",
       "      <td>Closed</td>\n",
       "      <td>Constituent Call</td>\n",
       "      <td>ELM CREEK and WURZBACH RD</td>\n",
       "      <td>8</td>\n",
       "      <td>2113584.0</td>\n",
       "      <td>13747492.0</td>\n",
       "      <td>9/19/2019</td>\n",
       "      <td>9/19/2020</td>\n",
       "    </tr>\n",
       "    <tr>\n",
       "      <th>1</th>\n",
       "      <td>Streets &amp; Infrastructure</td>\n",
       "      <td>1010126880</td>\n",
       "      <td>12/10/2011</td>\n",
       "      <td>12/13/2011</td>\n",
       "      <td>3/5/2020</td>\n",
       "      <td>YES</td>\n",
       "      <td>Trans &amp; Cap Improvements</td>\n",
       "      <td>Streets</td>\n",
       "      <td>Barricade - Misc. Special Event/Emergency</td>\n",
       "      <td>Closed</td>\n",
       "      <td>Constituent Call</td>\n",
       "      <td>1600  CENTENNIAL BV, San Antonio, 78211</td>\n",
       "      <td>5</td>\n",
       "      <td>2116553.0</td>\n",
       "      <td>13684805.0</td>\n",
       "      <td>9/19/2019</td>\n",
       "      <td>9/19/2020</td>\n",
       "    </tr>\n",
       "    <tr>\n",
       "      <th>2</th>\n",
       "      <td>Information</td>\n",
       "      <td>1010338011</td>\n",
       "      <td>5/25/2012</td>\n",
       "      <td>NaN</td>\n",
       "      <td>1/27/2020</td>\n",
       "      <td>NO</td>\n",
       "      <td>Knowledge Management</td>\n",
       "      <td>Knowledge</td>\n",
       "      <td>Knowledge Solution Extra</td>\n",
       "      <td>Closed</td>\n",
       "      <td>Constituent Call</td>\n",
       "      <td>310  ROOSEVELT AV, San Antonio, 78210</td>\n",
       "      <td>5</td>\n",
       "      <td>2132295.0</td>\n",
       "      <td>13693603.0</td>\n",
       "      <td>9/19/2019</td>\n",
       "      <td>9/19/2020</td>\n",
       "    </tr>\n",
       "    <tr>\n",
       "      <th>3</th>\n",
       "      <td>Graffiti</td>\n",
       "      <td>1010444245</td>\n",
       "      <td>8/15/2012</td>\n",
       "      <td>8/30/2012</td>\n",
       "      <td>NaN</td>\n",
       "      <td>YES</td>\n",
       "      <td>Code Enforcement Services</td>\n",
       "      <td>Graffiti</td>\n",
       "      <td>Graffiti Public Property</td>\n",
       "      <td>Open</td>\n",
       "      <td>Web Portal</td>\n",
       "      <td>600  NOGALITOS ST, San Antonio, 78204</td>\n",
       "      <td>5</td>\n",
       "      <td>2125683.0</td>\n",
       "      <td>13695548.0</td>\n",
       "      <td>9/19/2019</td>\n",
       "      <td>9/19/2020</td>\n",
       "    </tr>\n",
       "    <tr>\n",
       "      <th>4</th>\n",
       "      <td>Property Maintenance</td>\n",
       "      <td>1010888252</td>\n",
       "      <td>6/6/2013</td>\n",
       "      <td>8/9/2013</td>\n",
       "      <td>NaN</td>\n",
       "      <td>YES</td>\n",
       "      <td>Code Enforcement Services</td>\n",
       "      <td>Code Enforcement (IntExp)</td>\n",
       "      <td>Alley-Way Maintenance</td>\n",
       "      <td>Open</td>\n",
       "      <td>Web Portal</td>\n",
       "      <td>6043  CASTLE QUEEN, San Antonio, 78218</td>\n",
       "      <td>2</td>\n",
       "      <td>2169702.0</td>\n",
       "      <td>13725769.0</td>\n",
       "      <td>9/19/2019</td>\n",
       "      <td>9/19/2020</td>\n",
       "    </tr>\n",
       "  </tbody>\n",
       "</table>\n",
       "</div>"
      ],
      "text/plain": [
       "                   Category      CASEID OPENEDDATETIME    SLA_Date  \\\n",
       "0  Streets & Infrastructure  1010126853     12/10/2011  12/11/2011   \n",
       "1  Streets & Infrastructure  1010126880     12/10/2011  12/13/2011   \n",
       "2               Information  1010338011      5/25/2012         NaN   \n",
       "3                  Graffiti  1010444245      8/15/2012   8/30/2012   \n",
       "4      Property Maintenance  1010888252       6/6/2013    8/9/2013   \n",
       "\n",
       "  CLOSEDDATETIME Late (Yes/No)                       Dept  \\\n",
       "0       3/5/2020           YES   Trans & Cap Improvements   \n",
       "1       3/5/2020           YES   Trans & Cap Improvements   \n",
       "2      1/27/2020            NO       Knowledge Management   \n",
       "3            NaN           YES  Code Enforcement Services   \n",
       "4            NaN           YES  Code Enforcement Services   \n",
       "\n",
       "                  REASONNAME                                   TYPENAME  \\\n",
       "0                Storm Water                                Tree Fallen   \n",
       "1                    Streets  Barricade - Misc. Special Event/Emergency   \n",
       "2                  Knowledge                   Knowledge Solution Extra   \n",
       "3                   Graffiti                   Graffiti Public Property   \n",
       "4  Code Enforcement (IntExp)                      Alley-Way Maintenance   \n",
       "\n",
       "  CaseStatus          SourceID                               OBJECTDESC  \\\n",
       "0     Closed  Constituent Call                ELM CREEK and WURZBACH RD   \n",
       "1     Closed  Constituent Call  1600  CENTENNIAL BV, San Antonio, 78211   \n",
       "2     Closed  Constituent Call    310  ROOSEVELT AV, San Antonio, 78210   \n",
       "3       Open        Web Portal    600  NOGALITOS ST, San Antonio, 78204   \n",
       "4       Open        Web Portal   6043  CASTLE QUEEN, San Antonio, 78218   \n",
       "\n",
       "   Council District     XCOORD      YCOORD Report Starting Date  \\\n",
       "0                 8  2113584.0  13747492.0            9/19/2019   \n",
       "1                 5  2116553.0  13684805.0            9/19/2019   \n",
       "2                 5  2132295.0  13693603.0            9/19/2019   \n",
       "3                 5  2125683.0  13695548.0            9/19/2019   \n",
       "4                 2  2169702.0  13725769.0            9/19/2019   \n",
       "\n",
       "  Report Ending Date  \n",
       "0          9/19/2020  \n",
       "1          9/19/2020  \n",
       "2          9/19/2020  \n",
       "3          9/19/2020  \n",
       "4          9/19/2020  "
      ]
     },
     "execution_count": 6,
     "metadata": {},
     "output_type": "execute_result"
    }
   ],
   "source": [
    "df.head()"
   ]
  },
  {
   "cell_type": "markdown",
   "metadata": {},
   "source": [
    "### Can I use CASEID as an index?"
   ]
  },
  {
   "cell_type": "code",
   "execution_count": 13,
   "metadata": {},
   "outputs": [
    {
     "name": "stdout",
     "output_type": "stream",
     "text": [
      "False\n",
      "Because the above code returns False, it means that there can be multiple entries for each `CASEID`\n"
     ]
    }
   ],
   "source": [
    "print(len(df.CASEID) == len(df.CASEID.unique()))\n",
    "print(\"Because the above code returns False, it means that there can be multiple entries for each `CASEID`\")"
   ]
  },
  {
   "cell_type": "code",
   "execution_count": 15,
   "metadata": {},
   "outputs": [
    {
     "data": {
      "text/plain": [
       "1    529013\n",
       "2      7154\n",
       "4        69\n",
       "3        16\n",
       "Name: CASEID, dtype: int64"
      ]
     },
     "execution_count": 15,
     "metadata": {},
     "output_type": "execute_result"
    }
   ],
   "source": [
    "# What are the distribution of CASEID frequency\n",
    "df.CASEID.value_counts().value_counts()"
   ]
  },
  {
   "cell_type": "markdown",
   "metadata": {},
   "source": [
    "### Initial dataframe exploration"
   ]
  },
  {
   "cell_type": "code",
   "execution_count": 16,
   "metadata": {},
   "outputs": [
    {
     "data": {
      "text/html": [
       "<div>\n",
       "<style scoped>\n",
       "    .dataframe tbody tr th:only-of-type {\n",
       "        vertical-align: middle;\n",
       "    }\n",
       "\n",
       "    .dataframe tbody tr th {\n",
       "        vertical-align: top;\n",
       "    }\n",
       "\n",
       "    .dataframe thead th {\n",
       "        text-align: right;\n",
       "    }\n",
       "</style>\n",
       "<table border=\"1\" class=\"dataframe\">\n",
       "  <thead>\n",
       "    <tr style=\"text-align: right;\">\n",
       "      <th></th>\n",
       "      <th>CASEID</th>\n",
       "      <th>Council District</th>\n",
       "      <th>XCOORD</th>\n",
       "      <th>YCOORD</th>\n",
       "    </tr>\n",
       "  </thead>\n",
       "  <tbody>\n",
       "    <tr>\n",
       "      <th>count</th>\n",
       "      <td>5.436450e+05</td>\n",
       "      <td>543645.000000</td>\n",
       "      <td>5.429210e+05</td>\n",
       "      <td>5.429210e+05</td>\n",
       "    </tr>\n",
       "    <tr>\n",
       "      <th>mean</th>\n",
       "      <td>1.016064e+09</td>\n",
       "      <td>4.694950</td>\n",
       "      <td>2.120575e+06</td>\n",
       "      <td>1.371284e+07</td>\n",
       "    </tr>\n",
       "    <tr>\n",
       "      <th>std</th>\n",
       "      <td>3.389542e+05</td>\n",
       "      <td>2.819779</td>\n",
       "      <td>2.698308e+04</td>\n",
       "      <td>2.687895e+04</td>\n",
       "    </tr>\n",
       "    <tr>\n",
       "      <th>min</th>\n",
       "      <td>1.010127e+09</td>\n",
       "      <td>0.000000</td>\n",
       "      <td>2.029622e+06</td>\n",
       "      <td>1.359949e+07</td>\n",
       "    </tr>\n",
       "    <tr>\n",
       "      <th>25%</th>\n",
       "      <td>1.015955e+09</td>\n",
       "      <td>2.000000</td>\n",
       "      <td>2.103281e+06</td>\n",
       "      <td>1.369376e+07</td>\n",
       "    </tr>\n",
       "    <tr>\n",
       "      <th>50%</th>\n",
       "      <td>1.016093e+09</td>\n",
       "      <td>4.000000</td>\n",
       "      <td>2.121899e+06</td>\n",
       "      <td>1.370887e+07</td>\n",
       "    </tr>\n",
       "    <tr>\n",
       "      <th>75%</th>\n",
       "      <td>1.016236e+09</td>\n",
       "      <td>7.000000</td>\n",
       "      <td>2.139573e+06</td>\n",
       "      <td>1.373099e+07</td>\n",
       "    </tr>\n",
       "    <tr>\n",
       "      <th>max</th>\n",
       "      <td>1.016404e+09</td>\n",
       "      <td>10.000000</td>\n",
       "      <td>2.235998e+06</td>\n",
       "      <td>1.383776e+07</td>\n",
       "    </tr>\n",
       "  </tbody>\n",
       "</table>\n",
       "</div>"
      ],
      "text/plain": [
       "             CASEID  Council District        XCOORD        YCOORD\n",
       "count  5.436450e+05     543645.000000  5.429210e+05  5.429210e+05\n",
       "mean   1.016064e+09          4.694950  2.120575e+06  1.371284e+07\n",
       "std    3.389542e+05          2.819779  2.698308e+04  2.687895e+04\n",
       "min    1.010127e+09          0.000000  2.029622e+06  1.359949e+07\n",
       "25%    1.015955e+09          2.000000  2.103281e+06  1.369376e+07\n",
       "50%    1.016093e+09          4.000000  2.121899e+06  1.370887e+07\n",
       "75%    1.016236e+09          7.000000  2.139573e+06  1.373099e+07\n",
       "max    1.016404e+09         10.000000  2.235998e+06  1.383776e+07"
      ]
     },
     "execution_count": 16,
     "metadata": {},
     "output_type": "execute_result"
    }
   ],
   "source": [
    "df.describe()"
   ]
  },
  {
   "cell_type": "code",
   "execution_count": null,
   "metadata": {},
   "outputs": [],
   "source": []
  }
 ],
 "metadata": {
  "kernelspec": {
   "display_name": "Python 3",
   "language": "python",
   "name": "python3"
  },
  "language_info": {
   "codemirror_mode": {
    "name": "ipython",
    "version": 3
   },
   "file_extension": ".py",
   "mimetype": "text/x-python",
   "name": "python",
   "nbconvert_exporter": "python",
   "pygments_lexer": "ipython3",
   "version": "3.7.4"
  }
 },
 "nbformat": 4,
 "nbformat_minor": 2
}
